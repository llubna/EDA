{
 "cells": [
  {
   "cell_type": "code",
   "execution_count": null,
   "id": "8a7cbcec",
   "metadata": {},
   "outputs": [],
   "source": [
    "import pandas as pd"
   ]
  },
  {
   "cell_type": "code",
   "execution_count": null,
   "id": "9ca7d66c",
   "metadata": {},
   "outputs": [],
   "source": [
    "# Source: http://web.mta.info/developers/turnstile.html\n",
    "def get_data(week_nums):\n",
    "    url = \"http://web.mta.info/developers/data/nyct/turnstile/turnstile_{}.txt\"\n",
    "    dfs = []\n",
    "    for week_num in week_nums:\n",
    "        file_url = url.format(week_num)\n",
    "        dfs.append(pd.read_csv(file_url))\n",
    "    return pd.concat(dfs)\n",
    "        \n",
    "week_nums = [210828,210821,210814,210807,210731,210724,210717,210710,210703,210626,210619,210612,210605]\n",
    "turnstiles_df = get_data(week_nums)\n",
    "turnstiles_df"
   ]
  },
  {
   "cell_type": "code",
   "execution_count": null,
   "id": "b8c9f387",
   "metadata": {},
   "outputs": [],
   "source": [
    "turnstiles_df.head()\n",
    "turnstiles_df.count\n",
    "length1 = len(turnstiles_df)\n",
    "length1"
   ]
  },
  {
   "cell_type": "code",
   "execution_count": null,
   "id": "8235f228",
   "metadata": {},
   "outputs": [],
   "source": [
    "##Data cleaning \n",
    "\n",
    "# 1-remove duplicated values \n",
    "turnstiles_df2=turnstiles_df.drop_duplicates()\n",
    "\n",
    "length2 = len(turnstiles_df2)\n",
    "length2"
   ]
  },
  {
   "cell_type": "code",
   "execution_count": null,
   "id": "094a6abf",
   "metadata": {},
   "outputs": [],
   "source": [
    "# 2- checking for null values\n",
    "turnstiles_df2.isna().sum()"
   ]
  },
  {
   "cell_type": "code",
   "execution_count": null,
   "id": "901afae8",
   "metadata": {},
   "outputs": [],
   "source": [
    "# 3-\n"
   ]
  },
  {
   "cell_type": "code",
   "execution_count": null,
   "id": "cfada049",
   "metadata": {},
   "outputs": [],
   "source": [
    "# creating a timestamp column with datetime object to preform easy calculation \n",
    "turnstiles_df['DateTime'] = pd.to_datetime(turnstiles_df['DATE'] + ' ' + turnstiles_df['TIME'])\n",
    "turnstiles_df"
   ]
  },
  {
   "cell_type": "code",
   "execution_count": null,
   "id": "c24ae966",
   "metadata": {},
   "outputs": [],
   "source": []
  }
 ],
 "metadata": {
  "kernelspec": {
   "display_name": "Python 3",
   "language": "python",
   "name": "python3"
  },
  "language_info": {
   "codemirror_mode": {
    "name": "ipython",
    "version": 3
   },
   "file_extension": ".py",
   "mimetype": "text/x-python",
   "name": "python",
   "nbconvert_exporter": "python",
   "pygments_lexer": "ipython3",
   "version": "3.8.8"
  }
 },
 "nbformat": 4,
 "nbformat_minor": 5
}
